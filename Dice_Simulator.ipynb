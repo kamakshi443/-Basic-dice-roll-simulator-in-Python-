{
 "cells": [
  {
   "cell_type": "code",
   "execution_count": null,
   "metadata": {},
   "outputs": [
    {
     "name": "stdout",
     "output_type": "stream",
     "text": [
      "Enter the minimum value of the die: 1\n",
      "Enter the maximum value of the die: 6\n",
      "6\n"
     ]
    }
   ],
   "source": [
    "import random\n",
    "min_value=int(input(\"Enter the minimum value of the die: \"))\n",
    "max_value=int(input(\"Enter the maximum value of the die: \"))\n",
    "again= True\n",
    "while again:\n",
    "    print(random.randint(min_value,max_value))\n",
    "    another_roll=input(\"Want to roll a die again?\")\n",
    "    if(another_roll.lower()=='yes' or another_roll.lower()=='y'):\n",
    "        continue\n",
    "    else:\n",
    "        break"
   ]
  }
 ],
 "metadata": {
  "kernelspec": {
   "display_name": "Python 3",
   "language": "python",
   "name": "python3"
  },
  "language_info": {
   "codemirror_mode": {
    "name": "ipython",
    "version": 3
   },
   "file_extension": ".py",
   "mimetype": "text/x-python",
   "name": "python",
   "nbconvert_exporter": "python",
   "pygments_lexer": "ipython3",
   "version": "3.6.9"
  }
 },
 "nbformat": 4,
 "nbformat_minor": 2
}
